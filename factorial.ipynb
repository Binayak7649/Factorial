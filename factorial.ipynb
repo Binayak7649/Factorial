num = int(input("Enter the number you want to factorial"))
factorial = 1
if num<0:
    print("Number should be positive")
elif num>0:
    for i in range(1,num + 1):
         factorial *= i
    print(f"Factorial of {num} is {factorial}")
